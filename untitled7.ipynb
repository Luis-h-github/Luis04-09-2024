{
  "nbformat": 4,
  "nbformat_minor": 0,
  "metadata": {
    "colab": {
      "provenance": [],
      "include_colab_link": true
    },
    "kernelspec": {
      "name": "python3",
      "display_name": "Python 3"
    },
    "language_info": {
      "name": "python"
    }
  },
  "cells": [
    {
      "cell_type": "markdown",
      "metadata": {
        "id": "view-in-github",
        "colab_type": "text"
      },
      "source": [
        "<a href=\"https://colab.research.google.com/github/Luis-h-github/Luis04-09-2024/blob/main/untitled7.ipynb\" target=\"_parent\"><img src=\"https://colab.research.google.com/assets/colab-badge.svg\" alt=\"Open In Colab\"/></a>"
      ]
    },
    {
      "cell_type": "markdown",
      "source": [
        "#Solicitar ao usuário que insira a largura do vão/cor/qdt de vidro/fechadura"
      ],
      "metadata": {
        "id": "ZUlLz55WgaIY"
      }
    },
    {
      "cell_type": "code",
      "source": [
        "print(\"\\n=== OPÇÕES DE CORES ===\")\n",
        "print(\"1. preto\")\n",
        "print(\"2. branco\")\n",
        "print(\"3. fosco\")\n",
        "print(\"4. champagne\")\n",
        "print(\"5. bronze\")\n",
        "num = input(\"Digite o número correspondente a cor desejada\")\n",
        "if num ==1:\n",
        "  cor = \"preto\"\n",
        "elif num ==2:\n",
        "  cor = \"branco\"\n",
        "elif num ==3:\n",
        "  cor = \"fosco\"\n",
        "elif num ==4:\n",
        "  cor = \"champagne\"\n",
        "elif num ==5:\n",
        "  cor = \"bronze\"\n",
        "else:\n",
        "  cor = \"consultar as opções acima\"\n",
        "print(cor)"
      ],
      "metadata": {
        "colab": {
          "base_uri": "https://localhost:8080/",
          "height": 106
        },
        "id": "artTTOxh1Ppb",
        "outputId": "76f69d39-92bf-4955-a49f-57864557c03f"
      },
      "execution_count": null,
      "outputs": [
        {
          "output_type": "error",
          "ename": "SyntaxError",
          "evalue": "expected ':' (<ipython-input-24-1766996b4a15>, line 18)",
          "traceback": [
            "\u001b[0;36m  File \u001b[0;32m\"<ipython-input-24-1766996b4a15>\"\u001b[0;36m, line \u001b[0;32m18\u001b[0m\n\u001b[0;31m    else num >= 5:\u001b[0m\n\u001b[0m         ^\u001b[0m\n\u001b[0;31mSyntaxError\u001b[0m\u001b[0;31m:\u001b[0m expected ':'\n"
          ]
        }
      ]
    },
    {
      "cell_type": "code",
      "execution_count": 1,
      "metadata": {
        "colab": {
          "base_uri": "https://localhost:8080/",
          "height": 402
        },
        "id": "NEKlK5kdgVNW",
        "outputId": "d5f04ccb-ab35-42a2-9413-e76c8ec1a550"
      },
      "outputs": [
        {
          "name": "stdout",
          "output_type": "stream",
          "text": [
            "Digite a largura do vão em centimetro: 200\n",
            "\n",
            "=== Menu ===\n",
            "1. preto\n",
            "2. branco\n",
            "3. fosco\n",
            "4. champanhe\n",
            "5. bronze\n",
            "Digite a cor do kit evidence door: preto\n",
            "Digite a quantidade de vidro: 2\n",
            "Digite a possição da fechadura: lateral\n"
          ]
        },
        {
          "output_type": "error",
          "ename": "NameError",
          "evalue": "name 'Vidro' is not defined",
          "traceback": [
            "\u001b[0;31m---------------------------------------------------------------------------\u001b[0m",
            "\u001b[0;31mNameError\u001b[0m                                 Traceback (most recent call last)",
            "\u001b[0;32m<ipython-input-1-0dd34480e2aa>\u001b[0m in \u001b[0;36m<cell line: 13>\u001b[0;34m()\u001b[0m\n\u001b[1;32m     33\u001b[0m                 \u001b[0mprint\u001b[0m\u001b[0;34m(\u001b[0m\u001b[0;34m\"PERFIL EVIDENCE DOOR 8MM 150 / 2M - bronze\"\u001b[0m\u001b[0;34m)\u001b[0m\u001b[0;34m\u001b[0m\u001b[0;34m\u001b[0m\u001b[0m\n\u001b[1;32m     34\u001b[0m \u001b[0;34m\u001b[0m\u001b[0m\n\u001b[0;32m---> 35\u001b[0;31m   \u001b[0;32melif\u001b[0m \u001b[0mLargura\u001b[0m \u001b[0;34m<=\u001b[0m \u001b[0;36m200\u001b[0m \u001b[0;32mand\u001b[0m \u001b[0mCor\u001b[0m \u001b[0;34m==\u001b[0m \u001b[0;34m\"preto\"\u001b[0m \u001b[0;32mand\u001b[0m \u001b[0mVidro\u001b[0m \u001b[0;34m>=\u001b[0m \u001b[0;36m2\u001b[0m \u001b[0;32mand\u001b[0m \u001b[0mfechadura\u001b[0m \u001b[0;34m==\u001b[0m \u001b[0;34m\"lateral\"\u001b[0m\u001b[0;34m:\u001b[0m\u001b[0;34m\u001b[0m\u001b[0;34m\u001b[0m\u001b[0m\n\u001b[0m\u001b[1;32m     36\u001b[0m                 \u001b[0mprint\u001b[0m\u001b[0;34m(\u001b[0m\u001b[0;34m\"PERFIL EVIDENCE DOOR 8MM 200 / 2M - preto\"\u001b[0m\u001b[0;34m)\u001b[0m\u001b[0;34m\u001b[0m\u001b[0;34m\u001b[0m\u001b[0m\n\u001b[1;32m     37\u001b[0m \u001b[0;34m\u001b[0m\u001b[0m\n",
            "\u001b[0;31mNameError\u001b[0m: name 'Vidro' is not defined"
          ]
        }
      ],
      "source": [
        "from ast import Index\n",
        "Largura = float(input(\"Digite a largura do vão em centimetro: \"))\n",
        "cores= [\"preto\",\"branco\",\"fosco\",\"champanhe\",\"bronze\"]\n",
        "numero_cor= [1,2,3,4,5]\n",
        "print(\"\\n=== Menu ===\")\n",
        "print(\"1. preto\")\n",
        "print(\"2. branco\")\n",
        "print(\"3. fosco\")\n",
        "print(\"4. champanhe\")\n",
        "print(\"5. bronze\")\n",
        "Cor = input(\"Digite a cor do kit evidence door: \")\n",
        "Cor.lower\n",
        "while Cor in cores or Cor in numero_cor:\n",
        "\n",
        "  vidro = float(input(\"Digite a quantidade de vidro: \"))\n",
        "  fechadura = input(\"Digite a possição da fechadura: \")\n",
        "\n",
        "    # Função para exipbir o menu\n",
        "            # Determina o modelo do Kit com base nos dados solicitados.\n",
        "  if Largura <= 150 and Cor == \"preto\" and Vidro >= 2 and fechadura == \"lateral\":\n",
        "                print(\"PERFIL EVIDENCE DOOR 8MM 150 / 2M - preto\")\n",
        "\n",
        "  elif Largura <= 150 and Cor == \"branco\" and Vidro >= 2 and fechadura == \"lateral\":\n",
        "                print(\"PERFIL EVIDENCE DOOR 8MM 150 / 2M - branco\")\n",
        "\n",
        "  elif Largura <= 150 and Cor == \"fosco\" and Vidro >= 2 and fechadura == \"lateral\":\n",
        "                print(\"PERFIL EVIDENCE DOOR 8MM 150 / 2M - fosco\")\n",
        "\n",
        "  elif Largura <= 150 and Cor == \"champanhe\" and Vidro >= 2 and fechadura == \"lateral\":\n",
        "                print(\"PERFIL EVIDENCE DOOR 8MM 150 / 2M - champanhe\")\n",
        "\n",
        "  elif Largura <= 150 and Cor == \"bronze\" and Vidro >= 2 and fechadura == \"lateral\":\n",
        "                print(\"PERFIL EVIDENCE DOOR 8MM 150 / 2M - bronze\")\n",
        "\n",
        "  elif Largura <= 200 and Cor == \"preto\" and Vidro >= 2 and fechadura == \"lateral\":\n",
        "                print(\"PERFIL EVIDENCE DOOR 8MM 200 / 2M - preto\")\n",
        "\n",
        "  elif Largura <= 200 and Cor == \"branco\" and Vidro >= 2 and fechadura == \"lateral\":\n",
        "                print(\"PERFIL EVIDENCE DOOR 8MM 200 / 2M - branco\")\n",
        "\n",
        "  elif Largura <= 200 and Cor == \"fosco\" and Vidro >= 2 and fechadura == \"lateral\":\n",
        "                print(\"PERFIL EVIDENCE DOOR 8MM 200 / 2M - fosco\")\n",
        "\n",
        "  elif Largura <= 200 and Cor == \"champanhe\" and Vidro >= 2 and fechadura == \"lateral\":\n",
        "                print(\"PERFIL EVIDENCE DOOR 8MM 200 / 2M - champanhe\")\n",
        "\n",
        "\n",
        "  elif Largura <= 200 and Cor == \"bronze\" and Vidro >= 2 and fechadura == \"lateral\":\n",
        "                print(\"PERFIL EVIDENCE DOOR 8MM2050 / 2M - bronze\")\n",
        "  break"
      ]
    }
  ]
}