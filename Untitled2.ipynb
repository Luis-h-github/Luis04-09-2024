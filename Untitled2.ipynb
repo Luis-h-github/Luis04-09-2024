{
  "nbformat": 4,
  "nbformat_minor": 0,
  "metadata": {
    "colab": {
      "provenance": [],
      "authorship_tag": "ABX9TyOsnm9QrjtGwdVKH4UmoXxz",
      "include_colab_link": true
    },
    "kernelspec": {
      "name": "python3",
      "display_name": "Python 3"
    },
    "language_info": {
      "name": "python"
    }
  },
  "cells": [
    {
      "cell_type": "markdown",
      "metadata": {
        "id": "view-in-github",
        "colab_type": "text"
      },
      "source": [
        "<a href=\"https://colab.research.google.com/github/Luis-h-github/Luis04-09-2024/blob/main/Untitled2.ipynb\" target=\"_parent\"><img src=\"https://colab.research.google.com/assets/colab-badge.svg\" alt=\"Open In Colab\"/></a>"
      ]
    },
    {
      "cell_type": "code",
      "execution_count": null,
      "metadata": {
        "id": "Ylj3gxtWKIO-"
      },
      "outputs": [],
      "source": []
    },
    {
      "cell_type": "markdown",
      "source": [
        "**Aula dia 04 de Setembro 2024**\n",
        "\n",
        "**Exercício 02**\n",
        "\n",
        "Solicite ao usuário digitar medida em polegadas e converter para milímetros"
      ],
      "metadata": {
        "id": "Qn1dsuVyLY-e"
      }
    },
    {
      "cell_type": "code",
      "source": [
        "from math import pi\n",
        "#vou solicitar inicialmente o raio.\n",
        "print(\"Programa para calcular volume da esfera\")\n",
        "raio = float(input(\"Digite a raio; \"))\n",
        "v = (4/3) * pi * (raio**3)\n",
        "print(\"Volume da esfera = \", v)"
      ],
      "metadata": {
        "colab": {
          "base_uri": "https://localhost:8080/"
        },
        "id": "wZEwo4hgM4sq",
        "outputId": "bebfbfa2-7f1e-4d85-bd86-1f83f81ce435"
      },
      "execution_count": 12,
      "outputs": [
        {
          "output_type": "stream",
          "name": "stdout",
          "text": [
            "Programa para calcular volume da esfera\n",
            "Digite a raio; 10\n",
            "Volume da esfera =  4188.790204786391\n"
          ]
        }
      ]
    },
    {
      "cell_type": "markdown",
      "source": [
        "**Exercicio 01**\n",
        "\n",
        "Digitar uma temperatura em farenheit e converte-la e exibir o resultado em graus Celsius. onde C = (5/9)(F-32)"
      ],
      "metadata": {
        "id": "XSi-Jv5xSwDf"
      }
    },
    {
      "cell_type": "code",
      "source": [
        "print(\"Converter farenheit para Celsius\")\n",
        "farenheit = float(input(\"Digite o farenheit; \"))\n",
        "Celsius = (5/9) * (farenheit-32)\n",
        "\n",
        "print(\"resultado em graus Celcius = \", Celsius)"
      ],
      "metadata": {
        "colab": {
          "base_uri": "https://localhost:8080/"
        },
        "id": "Ff0tNjWHTSH0",
        "outputId": "397a9e24-80ee-43c9-e1f1-cfca982990cd"
      },
      "execution_count": 14,
      "outputs": [
        {
          "output_type": "stream",
          "name": "stdout",
          "text": [
            "Converter farenheit para Celsius\n",
            "Digite o farenheit; 100\n",
            "resultado em graus Celcius =  37.77777777777778\n"
          ]
        }
      ]
    }
  ]
}