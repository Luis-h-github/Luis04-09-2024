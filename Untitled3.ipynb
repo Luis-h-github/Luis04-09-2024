{
  "nbformat": 4,
  "nbformat_minor": 0,
  "metadata": {
    "colab": {
      "provenance": [],
      "authorship_tag": "ABX9TyPBpwq3QJq4gyFmtU8N2uwn",
      "include_colab_link": true
    },
    "kernelspec": {
      "name": "python3",
      "display_name": "Python 3"
    },
    "language_info": {
      "name": "python"
    }
  },
  "cells": [
    {
      "cell_type": "markdown",
      "metadata": {
        "id": "view-in-github",
        "colab_type": "text"
      },
      "source": [
        "<a href=\"https://colab.research.google.com/github/Luis-h-github/Luis04-09-2024/blob/main/Untitled3.ipynb\" target=\"_parent\"><img src=\"https://colab.research.google.com/assets/colab-badge.svg\" alt=\"Open In Colab\"/></a>"
      ]
    },
    {
      "cell_type": "code",
      "execution_count": 47,
      "metadata": {
        "colab": {
          "base_uri": "https://localhost:8080/",
          "height": 721
        },
        "id": "_2sk0ia2LMJ5",
        "outputId": "74629332-a25d-4a97-9d0f-feed629e0bf0"
      },
      "outputs": [
        {
          "name": "stdout",
          "output_type": "stream",
          "text": [
            "Digite a largura do vão em centimetro: 200\n",
            "\n",
            "=== Escolha a cor do Kit ===\n",
            "1. preto\n",
            "2. branco\n",
            "3. fosco\n",
            "4. champanhe\n",
            "5. bronze\n",
            "Digite a cor do kit evidence door: preto\n",
            "Digite a quantidade de vidro: 2\n",
            "\n",
            "=== Escolha modelo da fechadura ===\n",
            "1. lateral\n",
            "2. central\n",
            "Digite a possição da fechadura: lateral\n",
            "Digite a quantidade de vidro: 2\n",
            "\n",
            "=== Escolha modelo da fechadura ===\n",
            "1. lateral\n",
            "2. central\n",
            "Digite a possição da fechadura: lateral\n"
          ]
        },
        {
          "output_type": "error",
          "ename": "KeyboardInterrupt",
          "evalue": "Interrupted by user",
          "traceback": [
            "\u001b[0;31m---------------------------------------------------------------------------\u001b[0m",
            "\u001b[0;31mKeyboardInterrupt\u001b[0m                         Traceback (most recent call last)",
            "\u001b[0;32m<ipython-input-47-4076b1c76949>\u001b[0m in \u001b[0;36m<cell line: 12>\u001b[0;34m()\u001b[0m\n\u001b[1;32m     12\u001b[0m \u001b[0;32mwhile\u001b[0m \u001b[0mCor\u001b[0m \u001b[0;32min\u001b[0m \u001b[0mcores\u001b[0m \u001b[0;32mor\u001b[0m \u001b[0mCor\u001b[0m \u001b[0;32min\u001b[0m \u001b[0;34m[\u001b[0m\u001b[0mstr\u001b[0m\u001b[0;34m(\u001b[0m\u001b[0mnum\u001b[0m\u001b[0;34m)\u001b[0m \u001b[0;32mfor\u001b[0m \u001b[0mnum\u001b[0m \u001b[0;32min\u001b[0m \u001b[0mnumero_cor\u001b[0m\u001b[0;34m]\u001b[0m\u001b[0;34m:\u001b[0m\u001b[0;34m\u001b[0m\u001b[0;34m\u001b[0m\u001b[0m\n\u001b[1;32m     13\u001b[0m \u001b[0;34m\u001b[0m\u001b[0m\n\u001b[0;32m---> 14\u001b[0;31m  \u001b[0mVidro\u001b[0m \u001b[0;34m=\u001b[0m \u001b[0mfloat\u001b[0m\u001b[0;34m(\u001b[0m\u001b[0minput\u001b[0m\u001b[0;34m(\u001b[0m\u001b[0;34m\"Digite a quantidade de vidro: \"\u001b[0m\u001b[0;34m)\u001b[0m\u001b[0;34m)\u001b[0m\u001b[0;34m\u001b[0m\u001b[0;34m\u001b[0m\u001b[0m\n\u001b[0m\u001b[1;32m     15\u001b[0m \u001b[0;34m\u001b[0m\u001b[0m\n\u001b[1;32m     16\u001b[0m  \u001b[0mfechadura\u001b[0m\u001b[0;34m=\u001b[0m \u001b[0;34m[\u001b[0m\u001b[0;34m\"lateral\"\u001b[0m\u001b[0;34m,\u001b[0m\u001b[0;34m\"central\"\u001b[0m\u001b[0;34m]\u001b[0m\u001b[0;34m\u001b[0m\u001b[0;34m\u001b[0m\u001b[0m\n",
            "\u001b[0;32m/usr/local/lib/python3.10/dist-packages/ipykernel/kernelbase.py\u001b[0m in \u001b[0;36mraw_input\u001b[0;34m(self, prompt)\u001b[0m\n\u001b[1;32m    849\u001b[0m                 \u001b[0;34m\"raw_input was called, but this frontend does not support input requests.\"\u001b[0m\u001b[0;34m\u001b[0m\u001b[0;34m\u001b[0m\u001b[0m\n\u001b[1;32m    850\u001b[0m             )\n\u001b[0;32m--> 851\u001b[0;31m         return self._input_request(str(prompt),\n\u001b[0m\u001b[1;32m    852\u001b[0m             \u001b[0mself\u001b[0m\u001b[0;34m.\u001b[0m\u001b[0m_parent_ident\u001b[0m\u001b[0;34m,\u001b[0m\u001b[0;34m\u001b[0m\u001b[0;34m\u001b[0m\u001b[0m\n\u001b[1;32m    853\u001b[0m             \u001b[0mself\u001b[0m\u001b[0;34m.\u001b[0m\u001b[0m_parent_header\u001b[0m\u001b[0;34m,\u001b[0m\u001b[0;34m\u001b[0m\u001b[0;34m\u001b[0m\u001b[0m\n",
            "\u001b[0;32m/usr/local/lib/python3.10/dist-packages/ipykernel/kernelbase.py\u001b[0m in \u001b[0;36m_input_request\u001b[0;34m(self, prompt, ident, parent, password)\u001b[0m\n\u001b[1;32m    893\u001b[0m             \u001b[0;32mexcept\u001b[0m \u001b[0mKeyboardInterrupt\u001b[0m\u001b[0;34m:\u001b[0m\u001b[0;34m\u001b[0m\u001b[0;34m\u001b[0m\u001b[0m\n\u001b[1;32m    894\u001b[0m                 \u001b[0;31m# re-raise KeyboardInterrupt, to truncate traceback\u001b[0m\u001b[0;34m\u001b[0m\u001b[0;34m\u001b[0m\u001b[0m\n\u001b[0;32m--> 895\u001b[0;31m                 \u001b[0;32mraise\u001b[0m \u001b[0mKeyboardInterrupt\u001b[0m\u001b[0;34m(\u001b[0m\u001b[0;34m\"Interrupted by user\"\u001b[0m\u001b[0;34m)\u001b[0m \u001b[0;32mfrom\u001b[0m \u001b[0;32mNone\u001b[0m\u001b[0;34m\u001b[0m\u001b[0;34m\u001b[0m\u001b[0m\n\u001b[0m\u001b[1;32m    896\u001b[0m             \u001b[0;32mexcept\u001b[0m \u001b[0mException\u001b[0m \u001b[0;32mas\u001b[0m \u001b[0me\u001b[0m\u001b[0;34m:\u001b[0m\u001b[0;34m\u001b[0m\u001b[0;34m\u001b[0m\u001b[0m\n\u001b[1;32m    897\u001b[0m                 \u001b[0mself\u001b[0m\u001b[0;34m.\u001b[0m\u001b[0mlog\u001b[0m\u001b[0;34m.\u001b[0m\u001b[0mwarning\u001b[0m\u001b[0;34m(\u001b[0m\u001b[0;34m\"Invalid Message:\"\u001b[0m\u001b[0;34m,\u001b[0m \u001b[0mexc_info\u001b[0m\u001b[0;34m=\u001b[0m\u001b[0;32mTrue\u001b[0m\u001b[0;34m)\u001b[0m\u001b[0;34m\u001b[0m\u001b[0;34m\u001b[0m\u001b[0m\n",
            "\u001b[0;31mKeyboardInterrupt\u001b[0m: Interrupted by user"
          ]
        }
      ],
      "source": [
        "Largura = float(input(\"Digite a largura do vão em centimetro: \"))\n",
        "cores= [\"preto\",\"branco\",\"fosco\",\"champanhe\",\"bronze\"]\n",
        "numero_cor= [1,2,3,4,5]\n",
        "print(\"\\n=== Escolha a cor do Kit ===\")\n",
        "print(\"1. preto\")\n",
        "print(\"2. branco\")\n",
        "print(\"3. fosco\")\n",
        "print(\"4. champanhe\")\n",
        "print(\"5. bronze\")\n",
        "Cor = input(\"Digite a cor do kit evidence door: \")\n",
        "Cor.lower\n",
        "while Cor in cores or Cor in [str(num) for num in numero_cor]:\n",
        "\n",
        " Vidro = float(input(\"Digite a quantidade de vidro: \"))\n",
        "\n",
        " fechadura= [\"lateral\",\"central\"]\n",
        " numero_cor= [1,2]\n",
        " print(\"\\n=== Escolha modelo da fechadura ===\")\n",
        " print(\"1. lateral\")\n",
        " print(\"2. central\")\n",
        " fechadura = input(\"Digite a possição da fechadura: \")\n",
        " fechadura.lower\n",
        "\n",
        "while Fechadura in fechadura or Fechadura in [str(num) for num in numero_fechadura]:\n",
        "\n",
        "            # Determina o modelo do Kit com base nos dados solicitados.\n",
        "   if Largura <= 150 and Cor == \"preto\" and Vidro >= 2 and fechadura == \"lateral\":\n",
        "                print(\"PERFIL EVIDENCE DOOR 8MM 150 / 2 vidro - preto\")\n",
        "\n",
        "   elif Largura <= 150 and Cor == \"branco\" and Vidro >= 2 and fechadura == \"lateral\":\n",
        "                print(\"PERFIL EVIDENCE DOOR 8MM 150 / 2 vidro - branco\")\n",
        "\n",
        "   elif Largura <= 150 and Cor == \"fosco\" and Vidro >= 2 and fechadura == \"lateral\":\n",
        "                print(\"PERFIL EVIDENCE DOOR 8MM 150 / 2 vidro - fosco\")\n",
        "\n",
        "   elif Largura <= 150 and Cor == \"champanhe\" and Vidro >= 2 and fechadura == \"lateral\":\n",
        "                print(\"PERFIL EVIDENCE DOOR 8MM 150 / 2 vidro - champanhe\")\n",
        "\n",
        "   elif Largura <= 150 and Cor == \"bronze\" and Vidro >= 2 and fechadura == \"lateral\":\n",
        "                print(\"PERFIL EVIDENCE DOOR 8MM 150 / 2 vidro - bronze\")\n",
        "\n",
        "   elif Largura <= 200 and Cor == \"preto\" and Vidro >= 2 and fechadura == \"lateral\":\n",
        "                print(\"PERFIL EVIDENCE DOOR 8MM 200 / 2 vidro - preto\")\n",
        "\n",
        "   elif Largura <= 200 and Cor == \"branco\" and Vidro >= 2 and fechadura == \"lateral\":\n",
        "                print(\"PERFIL EVIDENCE DOOR 8MM 200 / 2 vidro - branco\")\n",
        "\n",
        "   elif Largura <= 200 and Cor == \"fosco\" and Vidro >= 2 and fechadura == \"lateral\":\n",
        "                print(\"PERFIL EVIDENCE DOOR 8MM 200 / 2 vidro - fosco\")\n",
        "\n",
        "   elif Largura <= 200 and Cor == \"champanhe\" and Vidro >= 2 and fechadura == \"lateral\":\n",
        "                print(\"PERFIL EVIDENCE DOOR 8MM 200 / 2 vidro - champanhe\")\n",
        "\n",
        "   elif Largura <= 200 and Cor == \"bronze\" and Vidro >= 2 and fechadura == \"lateral\":\n",
        "                print(\"PERFIL EVIDENCE DOOR 8MM2050 / 2 vidro - bronze\")\n",
        "\n",
        "   break"
      ]
    },
    {
      "cell_type": "code",
      "source": [
        "string1 = \"Olá, \"\n",
        "string2 = \"mundo!\"\n",
        "resultado = string1 + string2\n",
        "print(resultado)  # Saída: Olá, mundo!"
      ],
      "metadata": {
        "id": "n52zZC4-3BBJ"
      },
      "execution_count": null,
      "outputs": []
    },
    {
      "cell_type": "code",
      "source": [
        "def opcao_1():\n",
        "    print(\"Você escolheu a opção 1.\")\n",
        "\n",
        "def opcao_2():\n",
        "    print(\"Você escolheu a opção 2.\")\n",
        "\n",
        "def opcao_3():\n",
        "    print(\"Você escolheu a opção 3.\")\n",
        "\n",
        "opcoes = {\n",
        "    \"1\": opcao_1,\n",
        "    \"2\": opcao_2,\n",
        "    \"3\": opcao_3\n",
        "}\n",
        "\n",
        "while True:\n",
        "    print(\"Escolha uma opção:\")\n",
        "    print(\"1 - Mostrar mensagem 1\")\n",
        "    print(\"2 - Mostrar mensagem 2\")\n",
        "    print(\"3 - Mostrar mensagem 3\")\n",
        "    print(\"4 - Sair\")\n",
        "\n",
        "    opcao = input(\"Digite o número da opção: \")\n",
        "\n",
        "    if opcao == \"4\":\n",
        "        print(\"Saindo...\")\n",
        "        break\n",
        "    elif opcao in opcoes:\n",
        "        opcoes[opcao]()  # Chama a função correspondente à opção\n",
        "    else:\n",
        "        print(\"Opção inválida. Tente novamente.\")\n"
      ],
      "metadata": {
        "colab": {
          "base_uri": "https://localhost:8080/"
        },
        "id": "mlrPXDH5O-94",
        "outputId": "7537bfd5-0b1a-431a-eae3-2184ffe4dc87"
      },
      "execution_count": 14,
      "outputs": [
        {
          "output_type": "stream",
          "name": "stdout",
          "text": [
            "Escolha uma opção:\n",
            "1 - Mostrar mensagem 1\n",
            "2 - Mostrar mensagem 2\n",
            "3 - Mostrar mensagem 3\n",
            "4 - Sair\n",
            "Digite o número da opção: 1\n",
            "Você escolheu a opção 1.\n",
            "Escolha uma opção:\n",
            "1 - Mostrar mensagem 1\n",
            "2 - Mostrar mensagem 2\n",
            "3 - Mostrar mensagem 3\n",
            "4 - Sair\n",
            "Digite o número da opção: 2\n",
            "Você escolheu a opção 2.\n",
            "Escolha uma opção:\n",
            "1 - Mostrar mensagem 1\n",
            "2 - Mostrar mensagem 2\n",
            "3 - Mostrar mensagem 3\n",
            "4 - Sair\n",
            "Digite o número da opção: 3\n",
            "Você escolheu a opção 3.\n",
            "Escolha uma opção:\n",
            "1 - Mostrar mensagem 1\n",
            "2 - Mostrar mensagem 2\n",
            "3 - Mostrar mensagem 3\n",
            "4 - Sair\n",
            "Digite o número da opção: 4\n",
            "Saindo...\n"
          ]
        }
      ]
    },
    {
      "cell_type": "code",
      "source": [
        "# Lista de opções\n",
        "opcoes = [\n",
        "    \"Adicionar maçã\",\n",
        "    \"Adicionar banana\",\n",
        "    \"Adicionar laranja\",\n",
        "    \"Adicionar uva\"\n",
        "]\n",
        "\n",
        "# Lista para armazenar os itens selecionados\n",
        "itens_selecionados = []\n",
        "\n",
        "while True:\n",
        "    # Exibe as opções\n",
        "    print(\"\\nEscolha uma opção (ou digite 'sair' para terminar):\")\n",
        "    for i, opcao in enumerate(opcoes, start=1):\n",
        "        print(f\"{i} - {opcao}\")\n",
        "\n",
        "    # Solicita ao usuário a escolha\n",
        "    escolha = input(\"Digite o número da opção ou 'sair' para finalizar: \")\n",
        "\n",
        "    # Verifica se o usuário quer sair\n",
        "    if escolha.lower() == 'sair':\n",
        "        break\n",
        "\n",
        "    # Verifica se a escolha é válida\n",
        "    if escolha.isdigit() and 1 <= int(escolha) <= len(opcoes):\n",
        "        # Adiciona o item selecionado à lista\n",
        "        item = opcoes[int(escolha) - 1]\n",
        "        itens_selecionados.append(item)\n",
        "        print(f\"{item} foi adicionado.\")\n",
        "    else:\n",
        "        print(\"Opção inválida, tente novamente.\")\n",
        "\n",
        "# Exibe a lista final de itens selecionados\n",
        "print(\"\\n\")"
      ],
      "metadata": {
        "colab": {
          "base_uri": "https://localhost:8080/"
        },
        "id": "J928ur8atDjk",
        "outputId": "ca43a2ad-e42d-489d-f0ba-51d7cea30ee1"
      },
      "execution_count": 49,
      "outputs": [
        {
          "output_type": "stream",
          "name": "stdout",
          "text": [
            "\n",
            "Escolha uma opção (ou digite 'sair' para terminar):\n",
            "1 - Adicionar maçã\n",
            "2 - Adicionar banana\n",
            "3 - Adicionar laranja\n",
            "4 - Adicionar uva\n",
            "Digite o número da opção ou 'sair' para finalizar: 1\n",
            "Adicionar maçã foi adicionado.\n",
            "\n",
            "Escolha uma opção (ou digite 'sair' para terminar):\n",
            "1 - Adicionar maçã\n",
            "2 - Adicionar banana\n",
            "3 - Adicionar laranja\n",
            "4 - Adicionar uva\n",
            "Digite o número da opção ou 'sair' para finalizar: sair\n",
            "\n",
            "\n"
          ]
        }
      ]
    },
    {
      "cell_type": "code",
      "source": [
        "# Lista inicial de itens\n",
        "itens = [\"item1\", \"item2\", \"item3\"]\n",
        "\n",
        "# Itens selecionados\n",
        "itens_selecionados = []\n",
        "\n",
        "# Função para selecionar itens (pode ser baseada em uma lógica ou interação do usuário)\n",
        "def selecionar_item(item):\n",
        "    if item in itens:\n",
        "        itens_selecionados.append(item)\n",
        "\n",
        "# Simulando a seleção de itens\n",
        "selecionar_item(\"item1\")\n",
        "selecionar_item(\"item3\")\n",
        "\n",
        "# Exibindo a lista final de itens selecionados\n",
        "print(\"Itens selecionados:\", itens_selecionados)"
      ],
      "metadata": {
        "colab": {
          "base_uri": "https://localhost:8080/"
        },
        "id": "xNuRlYrWtuyl",
        "outputId": "2ae1eb0b-9269-4ff1-c65a-97b3df01186f"
      },
      "execution_count": 19,
      "outputs": [
        {
          "output_type": "stream",
          "name": "stdout",
          "text": [
            "Itens selecionados: ['item1', 'item3']\n"
          ]
        }
      ]
    },
    {
      "cell_type": "code",
      "source": [
        "  # Lista de itens disponíveis para seleção\n",
        "itens_disponiveis = [\"Maçã\", \"Banana\", \"Laranja\", \"Uva\", \"Abacaxi\", \"Melancia\"]\n",
        "\n",
        "# Lista para armazenar os itens selecionados\n",
        "itens_selecionados = []\n",
        "\n",
        "# Função para exibir itens disponíveis e permitir a seleção\n",
        "def selecionar_itens():\n",
        "    print(\"Selecione os itens abaixo (digite o número correspondente para adicionar ou 'sair' para finalizar):\")\n",
        "    for i, item in enumerate(itens_disponiveis, 1):\n",
        "        print(f\"{i}. {item}\")\n",
        "\n",
        "    while True:\n",
        "        escolha = input(\"Digite o número do item para adicionar à sua lista ou 'sair' para finalizar: \")\n",
        "\n",
        "        if escolha.lower() == 'sair':\n",
        "            break\n",
        "\n",
        "        # Verificar se a escolha é válida\n",
        "        if escolha.isdigit():\n",
        "            escolha = int(escolha)\n",
        "            if 1 <= escolha <= len(itens_disponiveis):\n",
        "                itens_selecionados.append(itens_disponiveis[escolha - 1])\n",
        "                print(f\"{itens_disponiveis[escolha - 1]} adicionado à sua lista.\")\n",
        "            else:\n",
        "                print(\"Número inválido. Tente novamente.\")\n",
        "        else:\n",
        "            print(\"Por favor, digite um número válido ou 'sair'.\")\n",
        "\n",
        "# Chamar a função de seleção\n",
        "selecionar_itens()\n",
        "\n",
        "# Exibir a lista final de itens selecionados\n",
        "print(\"\\nItens selecionados:\")\n",
        "for item in itens_selecionados:\n",
        "    print(f\"- {item}1\")"
      ],
      "metadata": {
        "colab": {
          "base_uri": "https://localhost:8080/",
          "height": 478
        },
        "id": "R_c3R5HhwV7M",
        "outputId": "0aa2ffbd-7b07-423f-fd19-154b6844f741"
      },
      "execution_count": 52,
      "outputs": [
        {
          "output_type": "stream",
          "name": "stdout",
          "text": [
            "Selecione os itens abaixo (digite o número correspondente para adicionar ou 'sair' para finalizar):\n",
            "1. Maçã\n",
            "2. Banana\n",
            "3. Laranja\n",
            "4. Uva\n",
            "5. Abacaxi\n",
            "6. Melancia\n"
          ]
        },
        {
          "output_type": "error",
          "ename": "KeyboardInterrupt",
          "evalue": "Interrupted by user",
          "traceback": [
            "\u001b[0;31m---------------------------------------------------------------------------\u001b[0m",
            "\u001b[0;31mKeyboardInterrupt\u001b[0m                         Traceback (most recent call last)",
            "\u001b[0;32m<ipython-input-52-6a212012a224>\u001b[0m in \u001b[0;36m<cell line: 31>\u001b[0;34m()\u001b[0m\n\u001b[1;32m     29\u001b[0m \u001b[0;34m\u001b[0m\u001b[0m\n\u001b[1;32m     30\u001b[0m \u001b[0;31m# Chamar a função de seleção\u001b[0m\u001b[0;34m\u001b[0m\u001b[0;34m\u001b[0m\u001b[0m\n\u001b[0;32m---> 31\u001b[0;31m \u001b[0mselecionar_itens\u001b[0m\u001b[0;34m(\u001b[0m\u001b[0;34m)\u001b[0m\u001b[0;34m\u001b[0m\u001b[0;34m\u001b[0m\u001b[0m\n\u001b[0m\u001b[1;32m     32\u001b[0m \u001b[0;34m\u001b[0m\u001b[0m\n\u001b[1;32m     33\u001b[0m \u001b[0;31m# Exibir a lista final de itens selecionados\u001b[0m\u001b[0;34m\u001b[0m\u001b[0;34m\u001b[0m\u001b[0m\n",
            "\u001b[0;32m<ipython-input-52-6a212012a224>\u001b[0m in \u001b[0;36mselecionar_itens\u001b[0;34m()\u001b[0m\n\u001b[1;32m     12\u001b[0m \u001b[0;34m\u001b[0m\u001b[0m\n\u001b[1;32m     13\u001b[0m   \u001b[0;32mwhile\u001b[0m \u001b[0;32mTrue\u001b[0m\u001b[0;34m:\u001b[0m\u001b[0;34m\u001b[0m\u001b[0;34m\u001b[0m\u001b[0m\n\u001b[0;32m---> 14\u001b[0;31m       \u001b[0mescolha\u001b[0m \u001b[0;34m=\u001b[0m \u001b[0minput\u001b[0m\u001b[0;34m(\u001b[0m\u001b[0;34m\"Digite o número do item para adicionar à sua lista ou 'sair' para finalizar: \"\u001b[0m\u001b[0;34m)\u001b[0m\u001b[0;34m\u001b[0m\u001b[0;34m\u001b[0m\u001b[0m\n\u001b[0m\u001b[1;32m     15\u001b[0m \u001b[0;34m\u001b[0m\u001b[0m\n\u001b[1;32m     16\u001b[0m       \u001b[0;32mif\u001b[0m \u001b[0mescolha\u001b[0m\u001b[0;34m.\u001b[0m\u001b[0mlower\u001b[0m\u001b[0;34m(\u001b[0m\u001b[0;34m)\u001b[0m \u001b[0;34m==\u001b[0m \u001b[0;34m'sair'\u001b[0m\u001b[0;34m:\u001b[0m\u001b[0;34m\u001b[0m\u001b[0;34m\u001b[0m\u001b[0m\n",
            "\u001b[0;32m/usr/local/lib/python3.10/dist-packages/ipykernel/kernelbase.py\u001b[0m in \u001b[0;36mraw_input\u001b[0;34m(self, prompt)\u001b[0m\n\u001b[1;32m    849\u001b[0m                 \u001b[0;34m\"raw_input was called, but this frontend does not support input requests.\"\u001b[0m\u001b[0;34m\u001b[0m\u001b[0;34m\u001b[0m\u001b[0m\n\u001b[1;32m    850\u001b[0m             )\n\u001b[0;32m--> 851\u001b[0;31m         return self._input_request(str(prompt),\n\u001b[0m\u001b[1;32m    852\u001b[0m             \u001b[0mself\u001b[0m\u001b[0;34m.\u001b[0m\u001b[0m_parent_ident\u001b[0m\u001b[0;34m,\u001b[0m\u001b[0;34m\u001b[0m\u001b[0;34m\u001b[0m\u001b[0m\n\u001b[1;32m    853\u001b[0m             \u001b[0mself\u001b[0m\u001b[0;34m.\u001b[0m\u001b[0m_parent_header\u001b[0m\u001b[0;34m,\u001b[0m\u001b[0;34m\u001b[0m\u001b[0;34m\u001b[0m\u001b[0m\n",
            "\u001b[0;32m/usr/local/lib/python3.10/dist-packages/ipykernel/kernelbase.py\u001b[0m in \u001b[0;36m_input_request\u001b[0;34m(self, prompt, ident, parent, password)\u001b[0m\n\u001b[1;32m    893\u001b[0m             \u001b[0;32mexcept\u001b[0m \u001b[0mKeyboardInterrupt\u001b[0m\u001b[0;34m:\u001b[0m\u001b[0;34m\u001b[0m\u001b[0;34m\u001b[0m\u001b[0m\n\u001b[1;32m    894\u001b[0m                 \u001b[0;31m# re-raise KeyboardInterrupt, to truncate traceback\u001b[0m\u001b[0;34m\u001b[0m\u001b[0;34m\u001b[0m\u001b[0m\n\u001b[0;32m--> 895\u001b[0;31m                 \u001b[0;32mraise\u001b[0m \u001b[0mKeyboardInterrupt\u001b[0m\u001b[0;34m(\u001b[0m\u001b[0;34m\"Interrupted by user\"\u001b[0m\u001b[0;34m)\u001b[0m \u001b[0;32mfrom\u001b[0m \u001b[0;32mNone\u001b[0m\u001b[0;34m\u001b[0m\u001b[0;34m\u001b[0m\u001b[0m\n\u001b[0m\u001b[1;32m    896\u001b[0m             \u001b[0;32mexcept\u001b[0m \u001b[0mException\u001b[0m \u001b[0;32mas\u001b[0m \u001b[0me\u001b[0m\u001b[0;34m:\u001b[0m\u001b[0;34m\u001b[0m\u001b[0;34m\u001b[0m\u001b[0m\n\u001b[1;32m    897\u001b[0m                 \u001b[0mself\u001b[0m\u001b[0;34m.\u001b[0m\u001b[0mlog\u001b[0m\u001b[0;34m.\u001b[0m\u001b[0mwarning\u001b[0m\u001b[0;34m(\u001b[0m\u001b[0;34m\"Invalid Message:\"\u001b[0m\u001b[0;34m,\u001b[0m \u001b[0mexc_info\u001b[0m\u001b[0;34m=\u001b[0m\u001b[0;32mTrue\u001b[0m\u001b[0;34m)\u001b[0m\u001b[0;34m\u001b[0m\u001b[0;34m\u001b[0m\u001b[0m\n",
            "\u001b[0;31mKeyboardInterrupt\u001b[0m: Interrupted by user"
          ]
        }
      ]
    },
    {
      "cell_type": "code",
      "source": [
        "from ast import Index\n",
        "Largura = float(input(\"Digite a largura do vão em centimetro: \"))\n",
        "cores = [\"preto\", \"branco\", \"fosco\", \"champanhe\", \"bronze\"]\n",
        "numero_cor = [1, 2, 3, 4, 5]\n",
        "print(\"\\n=== Escolha a cor do Kit ===\")\n",
        "print(\"1. preto\")\n",
        "print(\"2. branco\")\n",
        "print(\"3. fosco\")\n",
        "print(\"4. champanhe\")\n",
        "print(\"5. bronze\")\n",
        "Cor = input(\"Digite a cor do kit evidence door: \").lower()  # Adicionado o método .lower() corretamente\n",
        "\n",
        "# Corrigindo o while para funcionar corretamente\n",
        "while Cor in cores or Cor in [str(num) for num in numero_cor]:  # Convertendo números para strings\n",
        "    Vidro = float(input(\"Digite a quantidade de vidro: \"))\n",
        "    fechadura = [\"lateral\", \"central\"]\n",
        "    numero_fechadura = [1, 2]\n",
        "    print(\"\\n=== Escolha modelo da fechadura ===\")\n",
        "    print(\"1. lateral\")\n",
        "    print(\"2. central\")\n",
        "    Fechadura = input(\"Digite a posição da fechadura: \").lower()  # Adicionado o método .lower() corretamente\n",
        "\n",
        "    # Corrigindo o segundo while\n",
        "    while Fechadura in fechadura or Fechadura in [str(num) for num in numero_fechadura]:\n",
        "        # Determina o modelo do Kit com base nos dados solicitados.\n",
        "        if Largura <= 150 and Cor == \"preto\" and Vidro >= 2 and Fechadura == \"lateral\":\n",
        "            print(\"PERFIL EVIDENCE DOOR 8MM 150 / 2 vidro - preto\")\n",
        "\n",
        "        elif Largura <= 150 and Cor == \"branco\" and Vidro >= 2 and Fechadura == \"lateral\":\n",
        "            print(\"PERFIL EVIDENCE DOOR 8MM 150 / 2 vidro - branco\")\n",
        "\n",
        "        elif Largura <= 150 and Cor == \"fosco\" and Vidro >= 2 and Fechadura == \"lateral\":\n",
        "            print(\"PERFIL EVIDENCE DOOR 8MM 150 / 2 vidro - fosco\")\n",
        "\n",
        "        elif Largura <= 150 and Cor == \"champanhe\" and Vidro >= 2 and Fechadura == \"lateral\":\n",
        "            print(\"PERFIL EVIDENCE DOOR 8MM 150 / 2 vidro - champanhe\")\n",
        "\n",
        "        elif Largura <= 150 and Cor == \"bronze\" and Vidro >= 2 and Fechadura == \"lateral\":\n",
        "            print(\"PERFIL EVIDENCE DOOR 8MM 150 / 2 vidro - bronze\")\n",
        "\n",
        "        elif Largura <= 200 and Cor == \"preto\" and Vidro >= 2 and Fechadura == \"lateral\":\n",
        "            print(\"PERFIL EVIDENCE DOOR 8MM 200 / 2 vidro - preto\")\n",
        "\n",
        "        elif Largura <= 200 and Cor == \"branco\" and Vidro >= 2 and Fechadura == \"lateral\":\n",
        "            print(\"PERFIL EVIDENCE DOOR 8MM 200 / 2 vidro - branco\")\n",
        "\n",
        "        elif Largura <= 200 and Cor == \"fosco\" and Vidro >= 2 and Fechadura == \"lateral\":\n",
        "            print(\"PERFIL EVIDENCE DOOR 8MM 200 / 2 vidro - fosco\")\n",
        "\n",
        "        elif Largura <= 200 and Cor == \"champanhe\" and Vidro >= 2 and Fechadura == \"lateral\":\n",
        "            print(\"PERFIL EVIDENCE DOOR 8MM 200 / 2 vidro - champanhe\")\n",
        "\n",
        "        elif Largura <= 200 and Cor == \"bronze\" and Vidro >= 2 and Fechadura == \"lateral\":\n",
        "            print(\"PERFIL EVIDENCE DOOR 8MM2050 / 2 vidro - bronze\")\n",
        "\n",
        "        break\n",
        "    break"
      ],
      "metadata": {
        "colab": {
          "base_uri": "https://localhost:8080/"
        },
        "id": "zMZumWRI6__Q",
        "outputId": "a96d4cf3-cc71-43be-ab2b-147b8e59c6c4"
      },
      "execution_count": 59,
      "outputs": [
        {
          "output_type": "stream",
          "name": "stdout",
          "text": [
            "Digite a largura do vão em centimetro: 200\n",
            "\n",
            "=== Escolha a cor do Kit ===\n",
            "1. preto\n",
            "2. branco\n",
            "3. fosco\n",
            "4. champanhe\n",
            "5. bronze\n",
            "Digite a cor do kit evidence door: preto\n",
            "Digite a quantidade de vidro: 2\n",
            "\n",
            "=== Escolha modelo da fechadura ===\n",
            "1. lateral\n",
            "2. central\n",
            "Digite a posição da fechadura: lateral\n",
            "PERFIL EVIDENCE DOOR 8MM 200 / 2 vidro - preto\n"
          ]
        }
      ]
    },
    {
      "cell_type": "code",
      "source": [
        "import sqlite3\n",
        "\n",
        "# Função para criar e conectar ao banco de dados\n",
        "def conectar_banco():\n",
        "    conexao = sqlite3.connect(\"crud_exemplo.db\")\n",
        "    cursor = conexao.cursor()\n",
        "    # Criar tabela se não existir\n",
        "    cursor.execute(\"\"\"\n",
        "    CREATE TABLE IF NOT EXISTS pessoas (\n",
        "        id INTEGER PRIMARY KEY AUTOINCREMENT,\n",
        "        nome TEXT NOT NULL,\n",
        "        idade INTEGER NOT NULL\n",
        "    )\n",
        "    \"\"\")\n",
        "    conexao.commit()\n",
        "    return conexao, cursor\n",
        "\n",
        "# Função para criar (inserir dados) no banco\n",
        "def criar_pessoa(nome, idade, cursor, conexao):\n",
        "    cursor.execute(\"INSERT INTO pessoas (nome, idade) VALUES (?, ?)\", (nome, idade))\n",
        "    conexao.commit()\n",
        "    print(\"Pessoa adicionada com sucesso!\")\n",
        "\n",
        "# Função para ler (listar) todas as pessoas\n",
        "def listar_pessoas(cursor):\n",
        "    cursor.execute(\"SELECT * FROM pessoas\")\n",
        "    pessoas = cursor.fetchall()\n",
        "    if pessoas:\n",
        "        print(\"\\n=== Lista de Pessoas ===\")\n",
        "        for pessoa in pessoas:\n",
        "            print(f\"ID: {pessoa[0]}, Nome: {pessoa[1]}, Idade: {pessoa[2]}\")\n",
        "    else:\n",
        "        print(\"\\nNenhuma pessoa encontrada.\")\n",
        "\n",
        "# Função para atualizar uma pessoa\n",
        "def atualizar_pessoa(id_pessoa, novo_nome, nova_idade, cursor, conexao):\n",
        "    cursor.execute(\"UPDATE pessoas SET nome = ?, idade = ? WHERE id = ?\", (novo_nome, nova_idade, id_pessoa))\n",
        "    conexao.commit()\n",
        "    if cursor.rowcount > 0:\n",
        "        print(\"Pessoa atualizada com sucesso!\")\n",
        "    else:\n",
        "        print(\"ID não encontrado.\")\n",
        "\n",
        "# Função para deletar uma pessoa\n",
        "def deletar_pessoa(id_pessoa, cursor, conexao):\n",
        "    cursor.execute(\"DELETE FROM pessoas WHERE id = ?\", (id_pessoa,))\n",
        "    conexao.commit()\n",
        "    if cursor.rowcount > 0:\n",
        "        print(\"Pessoa deletada com sucesso!\")\n",
        "    else:\n",
        "        print(\"ID não encontrado.\")\n",
        "\n",
        "# Menu principal do programa\n",
        "def menu():\n",
        "    conexao, cursor = conectar_banco()\n",
        "    while True:\n",
        "        print(\"\\n=== MENU CRUD ===\")\n",
        "        print(\"1. Adicionar Pessoa\")\n",
        "        print(\"2. Listar Pessoas\")\n",
        "        print(\"3. Atualizar Pessoa\")\n",
        "        print(\"4. Deletar Pessoa\")\n",
        "        print(\"5. Sair\")\n",
        "\n",
        "        opcao = input(\"Escolha uma opção: \")\n",
        "        if opcao == \"1\":\n",
        "            nome = input(\"Digite o nome: \")\n",
        "            idade = input(\"Digite a idade: \")\n",
        "            try:\n",
        "                criar_pessoa(nome, int(idade), cursor, conexao)\n",
        "            except ValueError:\n",
        "                print(\"Idade inválida. Digite um número.\")\n",
        "        elif opcao == \"2\":\n",
        "            listar_pessoas(cursor)\n",
        "        elif opcao == \"3\":\n",
        "            id_pessoa = input(\"Digite o ID da pessoa para atualizar: \")\n",
        "            novo_nome = input(\"Digite o novo nome: \")\n",
        "            nova_idade = input(\"Digite a nova idade: \")\n",
        "            try:\n",
        "                atualizar_pessoa(int(id_pessoa), novo_nome, int(nova_idade), cursor, conexao)\n",
        "            except ValueError:\n",
        "                print(\"ID ou idade inválidos. Digite números.\")\n",
        "        elif opcao == \"4\":\n",
        "            id_pessoa = input(\"Digite o ID da pessoa para deletar: \")\n",
        "            try:\n",
        "                deletar_pessoa(int(id_pessoa), cursor, conexao)\n",
        "            except ValueError:\n",
        "                print(\"ID inválido. Digite um número.\")\n",
        "        elif opcao == \"5\":\n",
        "            print(\"Encerrando programa...\")\n",
        "            cursor.close()\n",
        "            conexao.close()\n",
        "            break\n",
        "        else:\n",
        "            print(\"Opção inválida. Tente novamente.\")\n",
        "\n",
        "# Executar o programa\n",
        "if _name_ == \"_main_\":\n",
        "    menu()"
      ],
      "metadata": {
        "colab": {
          "base_uri": "https://localhost:8080/",
          "height": 193
        },
        "id": "vgMktlFT8d4B",
        "outputId": "f7696cc5-5e59-43d4-b8f2-121d9eda9cad"
      },
      "execution_count": 64,
      "outputs": [
        {
          "output_type": "error",
          "ename": "NameError",
          "evalue": "name '_name_' is not defined",
          "traceback": [
            "\u001b[0;31m---------------------------------------------------------------------------\u001b[0m",
            "\u001b[0;31mNameError\u001b[0m                                 Traceback (most recent call last)",
            "\u001b[0;32m<ipython-input-64-b5a49dd27a36>\u001b[0m in \u001b[0;36m<cell line: 97>\u001b[0;34m()\u001b[0m\n\u001b[1;32m     95\u001b[0m \u001b[0;34m\u001b[0m\u001b[0m\n\u001b[1;32m     96\u001b[0m \u001b[0;31m# Executar o programa\u001b[0m\u001b[0;34m\u001b[0m\u001b[0;34m\u001b[0m\u001b[0m\n\u001b[0;32m---> 97\u001b[0;31m \u001b[0;32mif\u001b[0m \u001b[0m_name_\u001b[0m \u001b[0;34m==\u001b[0m \u001b[0;34m\"_name_\"\u001b[0m\u001b[0;34m:\u001b[0m\u001b[0;34m\u001b[0m\u001b[0;34m\u001b[0m\u001b[0m\n\u001b[0m\u001b[1;32m     98\u001b[0m     \u001b[0mmenu\u001b[0m\u001b[0;34m(\u001b[0m\u001b[0;34m)\u001b[0m\u001b[0;34m\u001b[0m\u001b[0;34m\u001b[0m\u001b[0m\n",
            "\u001b[0;31mNameError\u001b[0m: name '_name_' is not defined"
          ]
        }
      ]
    }
  ]
}